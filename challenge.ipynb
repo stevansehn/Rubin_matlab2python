{
 "cells": [
  {
   "cell_type": "code",
   "execution_count": 56,
   "metadata": {},
   "outputs": [],
   "source": [
    "import scipy.io\n",
    "import os\n",
    "\n",
    "# Load the trained parameter matrices for Springer's HSMM model.\n",
    "# The parameters were trained using 409 heart sounds from MIT heart\n",
    "# sound database, i.e., recordings a0001-a0409.\n",
    "\n",
    "dirpath = '/media/linse/dados/stevan/datasets/heart-sound/sources/rubin/matlab'\n",
    "files = [('Springer_B_matrix'),('Springer_pi_vector'),('Springer_total_obs_distribution')];\n",
    "\n",
    "SpringerList = []\n",
    "for fname in files:\n",
    "    path = os.path.join(dirpath, fname + '.mat')\n",
    "    mat = scipy.io.loadmat(path)\n",
    "    SpringerList.append(mat.get(fname))\n",
    "\n",
    "Springer_B_matrix = SpringerList[0]\n",
    "Springer_pi_vector = SpringerList[1]\n",
    "Springer_total_obs_distribution = SpringerList[2]"
   ]
  },
  {
   "cell_type": "code",
   "execution_count": 63,
   "metadata": {},
   "outputs": [],
   "source": [
    "# Load data and resample data\n",
    "from default_Springer_HSMM_options import *\n",
    "springer_options = default_Springer_HSMM_options(SpringerOptions)"
   ]
  },
  {
   "cell_type": "code",
   "execution_count": null,
   "metadata": {},
   "outputs": [],
   "source": []
  }
 ],
 "metadata": {
  "kernelspec": {
   "display_name": "Python 3",
   "language": "python",
   "name": "python3"
  },
  "language_info": {
   "codemirror_mode": {
    "name": "ipython",
    "version": 3
   },
   "file_extension": ".py",
   "mimetype": "text/x-python",
   "name": "python",
   "nbconvert_exporter": "python",
   "pygments_lexer": "ipython3",
   "version": "3.7.3"
  }
 },
 "nbformat": 4,
 "nbformat_minor": 4
}
