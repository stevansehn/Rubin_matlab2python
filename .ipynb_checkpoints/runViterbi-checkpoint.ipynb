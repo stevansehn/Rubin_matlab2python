{
 "cells": [
  {
   "cell_type": "code",
   "execution_count": null,
   "metadata": {},
   "outputs": [],
   "source": [
    "import os\n",
    "\n",
    "inputRoot = '/home/linse/Stevan/datasets/heart-sound/training/'\n",
    "outputRoot = '/home/linse/Stevan/datasets/heart-sound/segmentation/'\n",
    "\n",
    "command = 'rm -rf /home/linse/Stevan/datasets/heart-sound/segmentation/'\n",
    "os.system(command)\n",
    "os.mkdir(outputRoot)\n",
    "\n",
    "folderList = os.listdir(inputRoot)\n",
    "folderList.sort() # Coloca a lista em ordem alfabética\n",
    "folderList = folderList[2:] # remove os metadados da lista\n",
    "\n",
    "# 'training-a/', 'training-b/', 'training-c/', 'training-d/', 'training-e/', 'training-f/'\n",
    "for i in range(len(folderList)):\n",
    "  fname = folderList[i]\n",
    "  inFolder = os.path.join(inputRoot, fname)\n",
    "  outFolder = os.path.join(outputRoot, fname)\n",
    "  os.mkdir(outFolder)\n",
    "  fileList = [ fname for fname in os.listdir(inFolder) if fname.endswith('.wav')]\n",
    "  fileList.sort()\n",
    "  for k in range(len(fileList)):\n",
    "    audioFile = os.path.join(inFolder,fileList[k])\n",
    "    outFile = os.path.join(outFolder,fileList[k].replace('wav','mat'))\n",
    "    print(folderList[i], \"| File \", k, \" of \", len(fileList), \" | \", fileList[k].replace('wav','mat'))"
   ]
  },
  {
   "cell_type": "code",
   "execution_count": null,
   "metadata": {},
   "outputs": [],
   "source": []
  }
 ],
 "metadata": {
  "kernelspec": {
   "display_name": "Python 3",
   "language": "python",
   "name": "python3"
  },
  "language_info": {
   "codemirror_mode": {
    "name": "ipython",
    "version": 3
   },
   "file_extension": ".py",
   "mimetype": "text/x-python",
   "name": "python",
   "nbconvert_exporter": "python",
   "pygments_lexer": "ipython3",
   "version": "3.7.3"
  }
 },
 "nbformat": 4,
 "nbformat_minor": 4
}
