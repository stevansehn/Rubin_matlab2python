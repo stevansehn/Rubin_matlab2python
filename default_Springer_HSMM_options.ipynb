{
 "cells": [
  {
   "cell_type": "code",
   "execution_count": 62,
   "metadata": {},
   "outputs": [],
   "source": [
    "class SpringerOptions:\n",
    "    \n",
    "    def __init__(self, audio_Fs, audio_segmentation_Fs, segmentation_tolerance, use_mex, include_wavelet_feature):\n",
    "        self.audio_Fs = audio_Fs\n",
    "        self.audio_segmentation_Fs = audio_segmentation_Fs\n",
    "        self.segmentation_tolerance = segmentation_tolerance\n",
    "        self.use_mex = use_mex\n",
    "        self.include_wavelet_feature = include_wavelet_feature"
   ]
  },
  {
   "cell_type": "code",
   "execution_count": 63,
   "metadata": {},
   "outputs": [],
   "source": [
    "def default_Springer_HSMM_options(SpringerOptions):\n",
    "    springer_options = SpringerOptions\n",
    "    # The sampling frequency at which to extract signal features:\n",
    "    springer_options.audio_Fs = 1000\n",
    "    # The downsampled frequency\n",
    "    # Set to 50 in Springer paper\n",
    "    springer_options.audio_segmentation_Fs = 50\n",
    "    # Set to 50 in Springer paper\n",
    "    springer_options.segmentation_tolerance = 0.1 # seconds\n",
    "    # Whether to use the mex code or not:\n",
    "    springer_options.use_mex = True\n",
    "    # Whether to use the wavelet function or not:\n",
    "    springer_options.include_wavelet_feature = True\n",
    "    return springer_options"
   ]
  },
  {
   "cell_type": "code",
   "execution_count": 64,
   "metadata": {},
   "outputs": [],
   "source": [
    "springer_options = default_Springer_HSMM_options(SpringerOptions)"
   ]
  },
  {
   "cell_type": "code",
   "execution_count": 67,
   "metadata": {},
   "outputs": [
    {
     "data": {
      "text/plain": [
       "1000"
      ]
     },
     "execution_count": 67,
     "metadata": {},
     "output_type": "execute_result"
    }
   ],
   "source": [
    "springer_options.audio_Fs"
   ]
  },
  {
   "cell_type": "code",
   "execution_count": null,
   "metadata": {},
   "outputs": [],
   "source": []
  }
 ],
 "metadata": {
  "kernelspec": {
   "display_name": "Python 3",
   "language": "python",
   "name": "python3"
  },
  "language_info": {
   "codemirror_mode": {
    "name": "ipython",
    "version": 3
   },
   "file_extension": ".py",
   "mimetype": "text/x-python",
   "name": "python",
   "nbconvert_exporter": "python",
   "pygments_lexer": "ipython3",
   "version": "3.7.3"
  }
 },
 "nbformat": 4,
 "nbformat_minor": 4
}
